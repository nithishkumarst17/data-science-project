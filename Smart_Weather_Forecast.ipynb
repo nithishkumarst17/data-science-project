{
  "cells": [
    {
      "cell_type": "markdown",
      "metadata": {
        "id": "view-in-github",
        "colab_type": "text"
      },
      "source": [
        "<a href=\"https://colab.research.google.com/github/nithishkumarst17/data-science-project/blob/main/Smart_Weather_Forecast.ipynb\" target=\"_parent\"><img src=\"https://colab.research.google.com/assets/colab-badge.svg\" alt=\"Open In Colab\"/></a>"
      ]
    },
    {
      "cell_type": "markdown",
      "source": [
        "SMART WEATHER FORECAST"
      ],
      "metadata": {
        "id": "r5q47ZINeZ4l"
      }
    },
    {
      "cell_type": "code",
      "source": [
        "import random\n",
        "import time\n",
        "import pandas as pd\n",
        "\n",
        "def weather_sensor():\n",
        "    temperature = round(random.uniform(15, 40), 2)  #\n",
        "    humidity = round(random.uniform(30, 90), 2)\n",
        "    wind_speed = round(random.uniform(0, 20), 2)\n",
        "    rain = random.choice([0, 1])\n",
        "    return {\n",
        "        \"Temperature (°C)\": temperature,\n",
        "        \"Humidity (%)\": humidity,\n",
        "        \"Wind Speed (km/h)\": wind_speed,\n",
        "        \"Rain\": \"Yes\" if rain == 1 else \"No\"\n",
        "    }\n",
        "\n",
        "data = []\n",
        "for i in range(10):\n",
        "    sensor_data = weather_sensor()\n",
        "    print(f\"Reading {i+1}: {sensor_data}\")\n",
        "    data.append(sensor_data)\n",
        "    time.sleep(1)\n",
        "\n",
        "df = pd.DataFrame(data)\n",
        "print(\"\\nWeather Sensor Data:\")\n",
        "print(df)\n",
        "\n",
        "df.to_csv(\"weather_sensor_data.csv\", index=False)\n",
        "print(\"\\nData saved to weather_sensor_data.csv\")\n"
      ],
      "metadata": {
        "id": "JT0-92QbennT",
        "outputId": "496efd8c-8fec-401e-8d47-2f27e7b4f1c4",
        "colab": {
          "base_uri": "https://localhost:8080/"
        }
      },
      "execution_count": 2,
      "outputs": [
        {
          "output_type": "stream",
          "name": "stdout",
          "text": [
            "Reading 1: {'Temperature (°C)': 34.23, 'Humidity (%)': 87.64, 'Wind Speed (km/h)': 18.48, 'Rain': 'No'}\n",
            "Reading 2: {'Temperature (°C)': 34.36, 'Humidity (%)': 87.81, 'Wind Speed (km/h)': 14.82, 'Rain': 'Yes'}\n",
            "Reading 3: {'Temperature (°C)': 37.42, 'Humidity (%)': 84.68, 'Wind Speed (km/h)': 8.49, 'Rain': 'Yes'}\n",
            "Reading 4: {'Temperature (°C)': 25.37, 'Humidity (%)': 36.43, 'Wind Speed (km/h)': 5.62, 'Rain': 'No'}\n",
            "Reading 5: {'Temperature (°C)': 36.92, 'Humidity (%)': 37.41, 'Wind Speed (km/h)': 15.97, 'Rain': 'No'}\n",
            "Reading 6: {'Temperature (°C)': 32.4, 'Humidity (%)': 51.73, 'Wind Speed (km/h)': 8.28, 'Rain': 'No'}\n",
            "Reading 7: {'Temperature (°C)': 18.28, 'Humidity (%)': 79.99, 'Wind Speed (km/h)': 2.57, 'Rain': 'No'}\n",
            "Reading 8: {'Temperature (°C)': 18.36, 'Humidity (%)': 45.27, 'Wind Speed (km/h)': 6.22, 'Rain': 'No'}\n",
            "Reading 9: {'Temperature (°C)': 33.35, 'Humidity (%)': 45.38, 'Wind Speed (km/h)': 14.49, 'Rain': 'Yes'}\n",
            "Reading 10: {'Temperature (°C)': 27.66, 'Humidity (%)': 67.66, 'Wind Speed (km/h)': 12.93, 'Rain': 'No'}\n",
            "\n",
            "Weather Sensor Data:\n",
            "   Temperature (°C)  Humidity (%)  Wind Speed (km/h) Rain\n",
            "0             34.23         87.64              18.48   No\n",
            "1             34.36         87.81              14.82  Yes\n",
            "2             37.42         84.68               8.49  Yes\n",
            "3             25.37         36.43               5.62   No\n",
            "4             36.92         37.41              15.97   No\n",
            "5             32.40         51.73               8.28   No\n",
            "6             18.28         79.99               2.57   No\n",
            "7             18.36         45.27               6.22   No\n",
            "8             33.35         45.38              14.49  Yes\n",
            "9             27.66         67.66              12.93   No\n",
            "\n",
            "Data saved to weather_sensor_data.csv\n"
          ]
        }
      ]
    }
  ],
  "metadata": {
    "colab": {
      "toc_visible": true,
      "provenance": [],
      "include_colab_link": true
    },
    "kernelspec": {
      "display_name": "Python 3",
      "name": "python3"
    }
  },
  "nbformat": 4,
  "nbformat_minor": 0
}